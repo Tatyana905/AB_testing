{
 "cells": [
  {
   "cell_type": "code",
   "execution_count": 1,
   "metadata": {},
   "outputs": [],
   "source": [
    "from statsmodels.stats.power import tt_ind_solve_power, zt_ind_solve_power\n",
    "from statsmodels.stats.proportion import proportion_effectsize\n",
    "from statsmodels.stats.meta_analysis import effectsize_smd\n",
    "from typing import Union\n",
    "import plotly.graph_objects as go\n",
    "from scipy import stats\n",
    "from math import asin\n",
    "import numpy as np\n"
   ]
  },
  {
   "cell_type": "markdown",
   "metadata": {},
   "source": [
    "### Задача №1\n",
    "\n",
    "Продакт на главной mail.ru решил протестировать в рекомендательной ленте контента вместо карточек со статьями видеоплеер с короткими видео. \n",
    "\n",
    "Нынешний таймспент на юзера в день в среднем равен 25 минут, а стандартная ошибка (SD) равна 156. Мы предполагаем, что в новой версии таймспент на юзера в день изменится на 10%. Средний трафик 20000 человек в день. Посчитайте сколько дней необходимо держать эксперимент при alpha = 5% и beta = 20% ."
   ]
  },
  {
   "cell_type": "code",
   "execution_count": 2,
   "metadata": {},
   "outputs": [],
   "source": [
    "def calc_proportion_es(prob1: float, prob2: float):\n",
    "\n",
    "    return abs(proportion_effectsize(prob1, prob2))\n",
    "\n",
    "\n",
    "def calc_proportion_es_alt(conv1: float, conv2: float, prob1: float, prob2: float):\n",
    "\n",
    "    return 2 * asin(np.sqrt(conv1/nobs1)) - 2 * asin(np.sqrt(conv2/nobs2))\n",
    "\n",
    "\n",
    "def calc_continuous_es(mean_control: Union[float, int],\n",
    "                       std_control: Union[float, int],\n",
    "                       mean_test: Union[float, int],\n",
    "                       std_test: Union[float, int]):\n",
    "\n",
    "    return abs(effectsize_smd(mean_control,\n",
    "                              std_control,\n",
    "                              1e4,\n",
    "                              mean_test,\n",
    "                              std_test,\n",
    "                              1e4)[0])\n",
    "\n",
    "\n",
    "def calc_continuous_es_alt(mean_control: Union[float, int],\n",
    "                           std_control: Union[float, int],\n",
    "                           mean_test: Union[float, int],\n",
    "                           std_test: Union[float, int]):\n",
    "\n",
    "    effect_size = (mean_test - mean_control) / \\\n",
    "        ((std_control**2 + std_test**2) / 2) ** 0.5\n",
    "    return effect_size\n",
    "\n",
    "\n",
    "def calc_sample_size_continuous(effect_size: float,\n",
    "                                alpha: float = .05,\n",
    "                                beta: float = .2,\n",
    "                                ratio: Union[float, int] = 1):\n",
    "\n",
    "    n = tt_ind_solve_power(effect_size=effect_size,\n",
    "                           alpha=alpha,\n",
    "                           power=(1 - beta),\n",
    "                           ratio=ratio,\n",
    "                           )\n",
    "    return int(n * 2)\n",
    "\n",
    "\n",
    "def calc_sample_size_proportion(effect_size: float,\n",
    "                                alpha: float = .05,\n",
    "                                beta: float = .2,\n",
    "                                ratio: Union[float, int] = 1):\n",
    "\n",
    "    n = zt_ind_solve_power(effect_size=effect_size,\n",
    "                           alpha=alpha,\n",
    "                           power=(1 - beta),\n",
    "                           ratio=ratio,\n",
    "                           )\n",
    "    return int(n * 2)\n"
   ]
  },
  {
   "cell_type": "code",
   "execution_count": 3,
   "metadata": {},
   "outputs": [],
   "source": [
    "# Расчёт минимально необходимой выборки * 2(для теста и контроля) для пропорций\n",
    "def calc_sample_size_proportion(effect_size: float,\n",
    "                                alpha: float = .05,\n",
    "                                beta: float = .2,\n",
    "                                ratio: Union[float, int] = 1):\n",
    "\n",
    "    n = zt_ind_solve_power(effect_size=effect_size,\n",
    "                           alpha=alpha,\n",
    "                           power=(1 - beta),\n",
    "                           ratio=ratio,\n",
    "                           )\n",
    "    return int(n * 2)\n",
    "# Расчёт минимально необходимой выборки * 2(для теста и контроля) для непрерывной метрики\n",
    "\n",
    "\n",
    "def calc_sample_size_continuous(effect_size: float,\n",
    "                                alpha: float = .05,\n",
    "                                beta: float = .2,\n",
    "                                ratio: Union[float, int] = 1):\n",
    "\n",
    "    n = tt_ind_solve_power(effect_size=effect_size,\n",
    "                           alpha=alpha,\n",
    "                           power=(1 - beta),\n",
    "                           ratio=ratio,\n",
    "                           )\n",
    "    return int(n * 2)\n"
   ]
  },
  {
   "cell_type": "code",
   "execution_count": 4,
   "metadata": {},
   "outputs": [],
   "source": [
    "# Сборная таблица с кодами\n",
    "def calc_proportion_es(prob1: float, prob2: float):\n",
    "\n",
    "    return abs(proportion_effectsize(prob1, prob2))\n",
    "\n",
    "\n",
    "def calc_proportion_es_alt(conv1: float, conv2: float, prob1: float, prob2: float):\n",
    "\n",
    "    return 2 * asin(np.sqrt(conv1/nobs1)) - 2 * asin(np.sqrt(conv2/nobs2))\n",
    "\n",
    "\n",
    "def calc_continuous_es(mean_control: Union[float, int],\n",
    "                       std_control: Union[float, int],\n",
    "                       mean_test: Union[float, int],\n",
    "                       std_test: Union[float, int]):\n",
    "\n",
    "    return abs(effectsize_smd(mean_control,\n",
    "                              std_control,\n",
    "                              1e4,\n",
    "                              mean_test,\n",
    "                              std_test,\n",
    "                              1e4)[0])\n",
    "\n",
    "\n",
    "def calc_continuous_es_alt(mean_control: Union[float, int],\n",
    "                           std_control: Union[float, int],\n",
    "                           mean_test: Union[float, int],\n",
    "                           std_test: Union[float, int]):\n",
    "\n",
    "    effect_size = (mean_test - mean_control) / \\\n",
    "        ((std_control**2 + std_test**2) / 2) ** 0.5\n",
    "    return effect_size\n",
    "\n",
    "\n",
    "def calc_sample_size_continuous(effect_size: float,\n",
    "                                alpha: float = .05,\n",
    "                                beta: float = .2,\n",
    "                                ratio: Union[float, int] = 1):\n",
    "\n",
    "    n = tt_ind_solve_power(effect_size=effect_size,\n",
    "                           alpha=alpha,\n",
    "                           power=(1 - beta),\n",
    "                           ratio=ratio,\n",
    "                           )\n",
    "    return int(n * 2)\n",
    "\n",
    "\n",
    "def calc_sample_size_proportion(effect_size: float,\n",
    "                                alpha: float = .05,\n",
    "                                beta: float = .2,\n",
    "                                ratio: Union[float, int] = 1):\n",
    "\n",
    "    n = zt_ind_solve_power(effect_size=effect_size,\n",
    "                           alpha=alpha,\n",
    "                           power=(1 - beta),\n",
    "                           ratio=ratio,\n",
    "                           )\n",
    "    return int(n * 2)\n"
   ]
  },
  {
   "cell_type": "markdown",
   "metadata": {},
   "source": [
    "#### Решение:"
   ]
  },
  {
   "cell_type": "code",
   "execution_count": 5,
   "metadata": {},
   "outputs": [],
   "source": [
    "def calc_continuous_es(mean_control: Union[float, int],\n",
    "                       std_control: Union[float, int],\n",
    "                       mean_test: Union[float, int],\n",
    "                       std_test: Union[float, int]):\n",
    "\n",
    "    return abs(effectsize_smd(mean_control,\n",
    "                              std_control,\n",
    "                              1e4,\n",
    "                              mean_test,\n",
    "                              std_test,\n",
    "                              1e4)[0])\n",
    "\n",
    "\n",
    "def calc_continuous_es_alt(mean_control: Union[float, int],\n",
    "                           std_control: Union[float, int],\n",
    "                           mean_test: Union[float, int],\n",
    "                           std_test: Union[float, int]):\n",
    "\n",
    "    effect_size = (mean_test - mean_control) / \\\n",
    "        ((std_control**2 + std_test**2) / 2) ** 0.5\n",
    "    return effect_size\n"
   ]
  },
  {
   "cell_type": "code",
   "execution_count": 6,
   "metadata": {},
   "outputs": [
    {
     "data": {
      "text/plain": [
       "(0.014870865944557932, 0.014871423685692022)"
      ]
     },
     "execution_count": 6,
     "metadata": {},
     "output_type": "execute_result"
    }
   ],
   "source": [
    "ts_control, ts_test = 25, 27.5\n",
    "std_control, std_test = 156, 156 * 1.15\n",
    "\n",
    "es_cont = calc_continuous_es(ts_control, std_control, ts_test, std_test)\n",
    "es_cont_alt = calc_continuous_es_alt(\n",
    "    ts_control, std_control, ts_test, std_test)\n",
    "es_cont, es_cont_alt\n"
   ]
  },
  {
   "cell_type": "markdown",
   "metadata": {},
   "source": [
    "Рассчитаем необходимый размер выборки:"
   ]
  },
  {
   "cell_type": "code",
   "execution_count": 7,
   "metadata": {},
   "outputs": [],
   "source": [
    "def calc_sample_size_continuous(effect_size: float,\n",
    "                                alpha: float = .05,\n",
    "                                beta: float = .2,\n",
    "                                ratio: Union[float, int] = 1):\n",
    "\n",
    "    n = tt_ind_solve_power(effect_size=effect_size,\n",
    "                           alpha=alpha,\n",
    "                           power=(1 - beta),\n",
    "                           ratio=ratio,\n",
    "                           )\n",
    "    return int(n * 2)\n"
   ]
  },
  {
   "cell_type": "code",
   "execution_count": 8,
   "metadata": {},
   "outputs": [
    {
     "data": {
      "text/plain": [
       "(141971, 141960)"
      ]
     },
     "execution_count": 8,
     "metadata": {},
     "output_type": "execute_result"
    }
   ],
   "source": [
    "calc_sample_size_continuous(es_cont), calc_sample_size_continuous(es_cont_alt)"
   ]
  },
  {
   "cell_type": "code",
   "execution_count": 9,
   "metadata": {},
   "outputs": [
    {
     "name": "stdout",
     "output_type": "stream",
     "text": [
      "Необходимая длительность теста: 7.09855 дней.\n"
     ]
    }
   ],
   "source": [
    "DAU = 20000\n",
    "time_test = calc_sample_size_continuous(es_cont) / DAU\n",
    "print('Необходимая длительность теста:', time_test, 'дней.')"
   ]
  },
  {
   "cell_type": "markdown",
   "metadata": {},
   "source": [
    "### Задача №2\n",
    "\n",
    "Наша продуктовая команда в ecommerce магазине планирует запустить тест, направленный на ускорение загрузки сайта. \n",
    "\n",
    "Одна из основных метрик **bounce rate в GA = 40%**. Мы предполагаем, что при оптимизации сайта она изменится минимум на 20%.Средний трафик 4000 человек в день. \n",
    "\n",
    "Посчитайте сколько нам нужно дней держать эксперимент при alpha = 5% и beta = 20%"
   ]
  },
  {
   "cell_type": "markdown",
   "metadata": {},
   "source": [
    "#### Решение:"
   ]
  },
  {
   "cell_type": "code",
   "execution_count": 10,
   "metadata": {},
   "outputs": [],
   "source": [
    "def calc_proportion_es(prob1: float, prob2: float):\n",
    "\n",
    "    return abs(proportion_effectsize(prob1, prob2))\n"
   ]
  },
  {
   "cell_type": "code",
   "execution_count": 11,
   "metadata": {},
   "outputs": [
    {
     "data": {
      "text/plain": [
       "0.16690997264630925"
      ]
     },
     "execution_count": 11,
     "metadata": {},
     "output_type": "execute_result"
    }
   ],
   "source": [
    "bounce_rate_1, bounce_rate_2 = 0.40, 0.32\n",
    "\n",
    "es_prop = calc_proportion_es(bounce_rate_1, bounce_rate_2)\n",
    "es_prop"
   ]
  },
  {
   "cell_type": "markdown",
   "metadata": {},
   "source": [
    "Рассчитаем необходимый объем выборки:"
   ]
  },
  {
   "cell_type": "code",
   "execution_count": 12,
   "metadata": {},
   "outputs": [],
   "source": [
    "def calc_sample_size_proportion(effect_size: float,\n",
    "                                alpha: float = .05,\n",
    "                                beta: float = .2,\n",
    "                                ratio: Union[float, int] = 1):\n",
    "\n",
    "    n = zt_ind_solve_power(effect_size=effect_size,\n",
    "                           alpha=alpha,\n",
    "                           power=(1 - beta),\n",
    "                           ratio=ratio,\n",
    "                           )\n",
    "    return int(n * 2)\n"
   ]
  },
  {
   "cell_type": "code",
   "execution_count": 13,
   "metadata": {},
   "outputs": [
    {
     "data": {
      "text/plain": [
       "1126"
      ]
     },
     "execution_count": 13,
     "metadata": {},
     "output_type": "execute_result"
    }
   ],
   "source": [
    "\n",
    "calc_sample_size_proportion(es_prop)\n"
   ]
  },
  {
   "cell_type": "markdown",
   "metadata": {},
   "source": [
    "Рассчитаем необходимое время тестирования:"
   ]
  },
  {
   "cell_type": "code",
   "execution_count": 14,
   "metadata": {},
   "outputs": [
    {
     "name": "stdout",
     "output_type": "stream",
     "text": [
      "Необходимая длительность теста: 0.28 дней.\n"
     ]
    }
   ],
   "source": [
    "DAU = 4000\n",
    "\n",
    "time_test = calc_sample_size_proportion(es_prop) / DAU\n",
    "print('Необходимая длительность теста:', round(time_test,2), 'дней.')\n"
   ]
  },
  {
   "cell_type": "code",
   "execution_count": null,
   "metadata": {},
   "outputs": [],
   "source": []
  }
 ],
 "metadata": {
  "kernelspec": {
   "display_name": "Python 3.11.1 64-bit",
   "language": "python",
   "name": "python3"
  },
  "language_info": {
   "codemirror_mode": {
    "name": "ipython",
    "version": 3
   },
   "file_extension": ".py",
   "mimetype": "text/x-python",
   "name": "python",
   "nbconvert_exporter": "python",
   "pygments_lexer": "ipython3",
   "version": "3.11.1"
  },
  "vscode": {
   "interpreter": {
    "hash": "ebfc0a8d552866b0d59eba665220a57de3bc06f3ac643b8bef38dd8f66781fdd"
   }
  }
 },
 "nbformat": 4,
 "nbformat_minor": 2
}
