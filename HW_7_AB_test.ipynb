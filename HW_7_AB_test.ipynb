{
 "cells": [
  {
   "cell_type": "code",
   "execution_count": 9,
   "metadata": {},
   "outputs": [],
   "source": [
    "# импорт необходимых библиотек\n",
    "import numpy as np\n",
    "from plotly.subplots import make_subplots\n",
    "from tqdm import tqdm\n",
    "from typing import Union\n",
    "import plotly.graph_objects as go\n",
    "from scipy import stats\n",
    "from math import asin\n",
    "\n",
    "import scipy.stats as st\n",
    "from statsmodels.stats.power import tt_ind_solve_power\n",
    "from statsmodels.stats.power import zt_ind_solve_power\n",
    "from statsmodels.stats.proportion import proportion_effectsize\n",
    "from statsmodels.stats import proportion\n",
    "from statsmodels.stats.meta_analysis import effectsize_smd"
   ]
  },
  {
   "attachments": {},
   "cell_type": "markdown",
   "metadata": {},
   "source": [
    "## Анализ онлайн - магазина Ozon\n",
    "\n",
    "На основе выбранных продуктов из первого вебинара, выберите 2 A/B-теста и составьте план эксперимента, чтобы избежать Peeking Problem\n",
    "\n",
    "Распишите, какие метрики и как вы будете анализировать\n",
    "\n"
   ]
  },
  {
   "cell_type": "markdown",
   "metadata": {},
   "source": [
    "## **Tест №1** \n",
    "\n",
    "Предположим, что   бесплатная доставка по промокоду увеличит конверсию в покупку на 8%, уменьшит процент брошенных корзин на 3% \n",
    "\n",
    "### **Что делаем**\n",
    "\n",
    "Контрольная версия: Не добавляем бесплатную доставку в описание над корзиной\n",
    "\n",
    "Тестовая версия: Добавляем  баннер с описанием бесплатной доставки\n",
    "\n",
    "### **На каких пользователях тестируем**\n",
    "  \n",
    "На постоянных покупателях\n",
    "\n",
    "### **Главные метрики**\n",
    "  \n",
    "Конверсия в покупку, процент брошенных корзин\n",
    "\n",
    "### **Ожидаемый эффект**\n",
    "  \n",
    "рост конверсии в покупку на 10%, уменьшение процента брошенных корзин на 3% \n",
    "\n",
    "### **План действий:**\n",
    "  \n",
    "Если наш эксперимент будет положительным и мы зафиксируем ожидаемое улучшение в в ключевых метриках и не посадим добавочные, то масштабируем изменение и «выкатываем» его на всех пользователей.\n",
    "Если основные метрики падают или растут недостаточно, либо добавочные метрики падают, откатываем эксперимент. \n"
   ]
  },
  {
   "attachments": {},
   "cell_type": "markdown",
   "metadata": {},
   "source": [
    "## **Перед стартом.**\n",
    "\n",
    "\n",
    "Предположим, что постоянных покупателей - 1000000 человек\n",
    "\n",
    "Тест запускаем на 10% от постоянных покупателей - на 10000 пользователях в день.\n",
    "\n",
    "Допустим, что сейчас у нас конверсия в покупку (%CR) для постоянных пользователей равна 10%, мы предполагаем увеличение на 8% до 10,8%\n",
    "\n",
    "alpha = 5% и beta = 20%\n"
   ]
  },
  {
   "cell_type": "markdown",
   "metadata": {},
   "source": [
    "#### Формулы"
   ]
  },
  {
   "cell_type": "code",
   "execution_count": 10,
   "metadata": {},
   "outputs": [],
   "source": [
    "def calc_proportion_es(prob1: float, prob2: float):\n",
    "  return abs(proportion_effectsize(prob1, prob2))\n",
    "\n",
    "\n",
    "def calc_proportion_es_alt(conv1: float, conv2: float, prob1: float, prob2: float):\n",
    "  return 2 * asin(np.sqrt(conv1/nobs1)) - 2 * asin(np.sqrt(conv2/nobs2))\n",
    "\n",
    "\n",
    "def calc_continuous_es(mean_control: Union[float, int],\n",
    "                       std_control: Union[float, int],\n",
    "                       mean_test: Union[float, int],\n",
    "                       std_test: Union[float, int]):\n",
    "\n",
    "  return abs(effectsize_smd(mean_control,\n",
    "                            std_control,\n",
    "                            1e4,\n",
    "                            mean_test,\n",
    "                            std_test,\n",
    "                            1e4)[0])\n",
    "\n",
    "\n",
    "def calc_continuous_es_alt(mean_control: Union[float, int],\n",
    "                           std_control: Union[float, int],\n",
    "                           mean_test: Union[float, int],\n",
    "                           std_test: Union[float, int]):\n",
    "\n",
    "  effect_size = (mean_test - mean_control) / \\\n",
    "      ((std_control**2 + std_test**2) / 2) ** 0.5\n",
    "  return effect_size\n",
    "\n",
    "\n",
    "def calc_sample_size_continuous(effect_size: float,\n",
    "                                alpha: float = .05,\n",
    "                                beta: float = .2,\n",
    "                                ratio: Union[float, int] = 1):\n",
    "\n",
    "  n = tt_ind_solve_power(effect_size=effect_size,\n",
    "                         alpha=alpha,\n",
    "                         power=(1 - beta),\n",
    "                         ratio=ratio,\n",
    "                         )\n",
    "\n",
    "  return int(n * 2)\n",
    "\n",
    "\n",
    "def calc_sample_size_proportion(effect_size: float,\n",
    "                                alpha: float = .05,\n",
    "                                beta: float = .2,\n",
    "                                ratio: Union[float, int] = 1):\n",
    "\n",
    "  n = zt_ind_solve_power(effect_size=effect_size,\n",
    "                         alpha=alpha,\n",
    "                         power=(1 - beta),\n",
    "                         ratio=ratio,\n",
    "                         )\n",
    "\n",
    "  return int(n * 2)\n"
   ]
  },
  {
   "cell_type": "code",
   "execution_count": 11,
   "metadata": {},
   "outputs": [
    {
     "name": "stdout",
     "output_type": "stream",
     "text": [
      "effect_size = 0.02621166016024057\n"
     ]
    }
   ],
   "source": [
    "# считаем effect_size\n",
    "bounce_rate_1, bounce_rate_2 = 0.1, 0.108\n",
    "\n",
    "es_prop = calc_proportion_es(bounce_rate_1, bounce_rate_2)\n",
    "print(f'effect_size = {es_prop}')\n"
   ]
  },
  {
   "cell_type": "code",
   "execution_count": 12,
   "metadata": {},
   "outputs": [
    {
     "name": "stdout",
     "output_type": "stream",
     "text": [
      "Общие кол-во необходимых наблюдений 45695\n"
     ]
    }
   ],
   "source": [
    "# Рассчитываем размер выборки для проведения теста\n",
    "print(\n",
    "    f'Общие кол-во необходимых наблюдений {calc_sample_size_proportion(es_prop)}')\n"
   ]
  },
  {
   "cell_type": "code",
   "execution_count": 13,
   "metadata": {},
   "outputs": [
    {
     "name": "stdout",
     "output_type": "stream",
     "text": [
      "Время для проведения теста: 4.5695\n"
     ]
    }
   ],
   "source": [
    "# Рассчитываем время для проведения теста\n",
    "users_average = 10000\n",
    "\n",
    "print(\n",
    "    f'Время для проведения теста: {calc_sample_size_proportion(es_prop) / users_average}')\n"
   ]
  },
  {
   "attachments": {},
   "cell_type": "markdown",
   "metadata": {},
   "source": [
    "## **Тест  №2** \n",
    "\n",
    "Если мы разобъем банер с горячими скидками на 2 блока, то увеличим количество заказов на 2 %\n",
    "\n",
    "### **Что делаем**\n",
    "\n",
    "Контрольная версия: Оставляем все без изменений\n",
    "\n",
    "Тестовая версия: Разбиваем банер на 2 части\n",
    "\n",
    "### **На каких пользователях тестируем**\n",
    "  \n",
    "На постоянных покупателях\n",
    "\n",
    "### **Главные метрики**\n",
    "  \n",
    "Частота заказов, конверсия в покупку, процент брошенных корзин\n",
    "\n",
    "### **Ожидаемый эффект**\n",
    "  \n",
    "рост частоты заказов на 2%  \n",
    "\n",
    "### **План действий**\n",
    "  \n",
    "Если наш эксперимент будет положительным и мы зафиксируем ожидаемое улучшение в в ключевых метриках и не посадим добавочные, то масштабируем изменение и «выкатываем» его на всех пользователей.\n",
    "Если основные метрики падают или растут недостаточно, либо добавочные метрики падают, откатываем эксперимент. "
   ]
  },
  {
   "cell_type": "markdown",
   "metadata": {},
   "source": [
    "\n",
    "Тест запускаем на 10% от постоянных покупателей - на 10000 пользователях в день.\n",
    "\n",
    "Допустим, что сейчас у нас частота заказов для постоянных пользователей равна 7, мы предполагаем увеличение на 2% до 7,14\n",
    "\n",
    "alpha = 5% и beta = 20%"
   ]
  },
  {
   "cell_type": "code",
   "execution_count": 14,
   "metadata": {},
   "outputs": [
    {
     "name": "stdout",
     "output_type": "stream",
     "text": [
      "effect_size = 0.005461921360775279\n"
     ]
    }
   ],
   "source": [
    "# считаем effect_size\n",
    "bounce_rate_1, bounce_rate_2 = 0.07, 0.0714\n",
    "\n",
    "es_prop = calc_proportion_es(bounce_rate_1, bounce_rate_2)\n",
    "print(f'effect_size = {es_prop}')\n"
   ]
  },
  {
   "cell_type": "code",
   "execution_count": 15,
   "metadata": {},
   "outputs": [
    {
     "name": "stdout",
     "output_type": "stream",
     "text": [
      "Общие кол-во необходимых наблюдений 1052387\n"
     ]
    }
   ],
   "source": [
    "# Рассчитываем размер выборки для проведения теста\n",
    "print(\n",
    "    f'Общие кол-во необходимых наблюдений {calc_sample_size_proportion(es_prop)}')\n"
   ]
  },
  {
   "cell_type": "code",
   "execution_count": 16,
   "metadata": {},
   "outputs": [
    {
     "name": "stdout",
     "output_type": "stream",
     "text": [
      "Время для проведения теста: 105.2387\n"
     ]
    }
   ],
   "source": [
    "# Рассчитываем время для проведения теста\n",
    "users_average = 10000\n",
    "\n",
    "print(\n",
    "    f'Время для проведения теста: {calc_sample_size_proportion(es_prop) / users_average}')\n"
   ]
  },
  {
   "cell_type": "code",
   "execution_count": null,
   "metadata": {},
   "outputs": [],
   "source": []
  }
 ],
 "metadata": {
  "kernelspec": {
   "display_name": "Python 3 (ipykernel)",
   "language": "python",
   "name": "python3"
  },
  "language_info": {
   "codemirror_mode": {
    "name": "ipython",
    "version": 3
   },
   "file_extension": ".py",
   "mimetype": "text/x-python",
   "name": "python",
   "nbconvert_exporter": "python",
   "pygments_lexer": "ipython3",
   "version": "3.9.13"
  }
 },
 "nbformat": 4,
 "nbformat_minor": 2
}
